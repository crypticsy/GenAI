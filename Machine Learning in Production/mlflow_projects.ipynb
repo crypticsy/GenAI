{
 "cells": [
  {
   "cell_type": "markdown",
   "id": "107d2a41",
   "metadata": {},
   "source": [
    "MLflow Projects\n",
    "- Reproducible\n",
    "- Reusable\n",
    "- Portable"
   ]
  },
  {
   "cell_type": "code",
   "execution_count": null,
   "id": "7d89cdf4",
   "metadata": {},
   "outputs": [],
   "source": [
    "# Import libraries and modules\n",
    "import mlflow\n",
    "import mlflow. sklearn \n",
    "import pandas as pd\n",
    "from sklearn.linear_model import LinearRegression \n",
    "from sklearn.model_selection import train_test_split\n",
    "\n",
    "# Training Data\n",
    "df = pd.read_csv('Salary_predict.csv')\n",
    "X = df[ [\"experience\"\n",
    ", \"age\", \"interview_score\"]]\n",
    "y = df[[\"Salary\"]]\n",
    "X_train, X_test, Y_train, Y_test = train_test_split(X, y, train_size=0.7, random_state=0)"
   ]
  },
  {
   "cell_type": "code",
   "execution_count": null,
   "id": "61153220",
   "metadata": {},
   "outputs": [],
   "source": [
    "# Set Auto logging for Scikit-learn flavor\n",
    "mlflow.sklearn.autolog()\n",
    "\n",
    "# Train the model\n",
    "lr = LinearRegression()\n",
    "lr. fit(X_train, Y_train)"
   ]
  },
  {
   "cell_type": "code",
   "execution_count": null,
   "id": "7ddbb025",
   "metadata": {},
   "outputs": [],
   "source": [
    "# python_env.yaml\n",
    "\n",
    "# python: 3.10.8\n",
    "# build_dependencies:\n",
    "# - pip\n",
    "# - setuptools\n",
    "# - wheel\n",
    "# dependencies:\n",
    "# - -r requirements. txt"
   ]
  },
  {
   "cell_type": "code",
   "execution_count": null,
   "id": "11acadb4",
   "metadata": {},
   "outputs": [],
   "source": [
    "mlflow.rpojects.run(\n",
    "    uri='./',               # URI to the MLproject file\n",
    "    entry_point='main',     # Entry point to start run from MLproject\n",
    "    experiment_name=\"My Experiment\",  # Experiment to track training run\n",
    "    env_manager=\"virtualenv\",  # Python environment manager: virtualenv or local\n",
    ")"
   ]
  }
 ],
 "metadata": {
  "kernelspec": {
   "display_name": "genai",
   "language": "python",
   "name": "python3"
  },
  "language_info": {
   "name": "python",
   "version": "3.13.2"
  }
 },
 "nbformat": 4,
 "nbformat_minor": 5
}
