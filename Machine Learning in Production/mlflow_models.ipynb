{
 "cells": [
  {
   "cell_type": "markdown",
   "id": "7f99505f",
   "metadata": {},
   "source": [
    "MLflow Models\n",
    "- Simplify ML library integration\n",
    "- Simplify Deployment\n",
    "- Convention called \"Flavors\""
   ]
  },
  {
   "cell_type": "markdown",
   "id": "dc835b67",
   "metadata": {},
   "source": [
    "Built in flavors:\n",
    "- Write custom tools for ML libraries\n",
    "- Flavors simplify the new for cusotm code\n",
    "- Examples : \n",
    "  - Python Function\n",
    "  - R Function\n",
    "  - Keras\n",
    "  - Scikit-learn\n",
    "  - TensorFlow"
   ]
  },
  {
   "cell_type": "code",
   "execution_count": null,
   "id": "6639bdc3",
   "metadata": {},
   "outputs": [],
   "source": [
    "import mlflow\n",
    "from sklearn.linear_model import LinearRegression\n",
    "\n",
    "# Automatically log model and metrics\n",
    "mlflow.sklearn.autolog()\n",
    "\n",
    "# Train the model\n",
    "lr = LinearRegression()\n",
    "lr.fit(X, y)    # model is logged automatically on model.fit()"
   ]
  },
  {
   "cell_type": "code",
   "execution_count": null,
   "id": "48d0e233",
   "metadata": {},
   "outputs": [],
   "source": [
    "# save a model in the local system\n",
    "mlflow.sklearn.save_model(lr, \"model\")\n",
    "\n",
    "# log a model as an artifact to MLflow tracking\n",
    "mlflow.sklearn.log_model(lr, \"model\")\n",
    "\n",
    "# Load the model from the local system\n",
    "mlflow.sklearn.load_model(\"model\")"
   ]
  },
  {
   "cell_type": "code",
   "execution_count": null,
   "id": "70cebc59",
   "metadata": {},
   "outputs": [],
   "source": [
    "# get last active run\n",
    "run = mlflow.last_active_run()\n",
    "\n",
    "# Load the model from the MLflow tracking server\n",
    "run_id = run.info.run_id\n",
    "model = mlflow.sklearn.load_model(f\"runs:/{run_id}/model\")"
   ]
  },
  {
   "cell_type": "markdown",
   "id": "2db2cf5a",
   "metadata": {},
   "source": [
    "-------"
   ]
  },
  {
   "cell_type": "markdown",
   "id": "94ce0ef1",
   "metadata": {},
   "source": [
    "Custom python models\n",
    "- Built in function  : python_function"
   ]
  },
  {
   "cell_type": "code",
   "execution_count": null,
   "id": "3b5e8c68",
   "metadata": {},
   "outputs": [],
   "source": [
    "class CustomPredict(mflow.pyfunc.PythonModel):\n",
    "    def load_context(self, context):\n",
    "        self.model = mlflow.sklearn.load_model(context.artifacts[\"custom_model\"])\n",
    "        \n",
    "    def custom_function(self, prediction):\n",
    "        # Define your custom logic here\n",
    "        return prediction * 2\n",
    "\n",
    "    def predict(self, context, model_input):\n",
    "        prediction = self.model.predict(model_input)\n",
    "        return custom_function(prediction)\n",
    "\n",
    "# save the custom model\n",
    "mlflow.pyfunc.save_model(\n",
    "    path=\"custom_model\",\n",
    "    python_model=CustomPredict(),\n",
    ")\n",
    "\n",
    "# log the custom model\n",
    "mlflow.pyfunc.log_model(\n",
    "    artifact_path=\"custom_model\",\n",
    "    python_model=CustomPredict(),\n",
    ")"
   ]
  },
  {
   "cell_type": "markdown",
   "id": "a9fe4681",
   "metadata": {},
   "source": [
    "-----"
   ]
  },
  {
   "cell_type": "markdown",
   "id": "235454c6",
   "metadata": {},
   "source": [
    "Rest API - Model Serving\n",
    "- /ping : for health checks\n",
    "- /health : for health checks\n",
    "- /version ; for getting the version of MLflow\n",
    "- /invocations : for model scoring\n",
    "- Port 5000 by default"
   ]
  },
  {
   "cell_type": "code",
   "execution_count": null,
   "id": "0caebc45",
   "metadata": {},
   "outputs": [],
   "source": [
    "# Mlfow serve command\n",
    "! mlflow models serve --help"
   ]
  },
  {
   "cell_type": "code",
   "execution_count": null,
   "id": "4883c8ee",
   "metadata": {},
   "outputs": [],
   "source": [
    "# Local file system\n",
    "! mlflow models serve -m relative/path/to/local/model\n",
    "\n",
    "# Run ID\n",
    "! mlflow models serve -m runs:/<mlflow_run_id>/artifacts/model"
   ]
  },
  {
   "cell_type": "code",
   "execution_count": null,
   "id": "6f4cdc33",
   "metadata": {},
   "outputs": [],
   "source": [
    "# Send dataframe_split orientation payload to MLflow\n",
    "! curl http://127.0.0.1:5000/invocations -H \"Content-Type: application/json\" -d \"{\n",
    "    \"dataframe_split\" : {\n",
    "      \"columns\": [\"sex\", \"age\", \"weight\"],\n",
    "      \"data\": [[\"male\", 23, 160], [\"female\", 33, 120]]\n",
    "    }\n",
    "  }\""
   ]
  }
 ],
 "metadata": {
  "kernelspec": {
   "display_name": "genai",
   "language": "python",
   "name": "python3"
  },
  "language_info": {
   "name": "python",
   "version": "3.13.2"
  }
 },
 "nbformat": 4,
 "nbformat_minor": 5
}
