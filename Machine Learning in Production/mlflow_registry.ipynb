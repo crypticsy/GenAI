{
 "cells": [
  {
   "cell_type": "markdown",
   "id": "858debf4",
   "metadata": {},
   "source": [
    "MLflow Model Registry\n",
    "- Model\n",
    "  - Model logged to MLFlow tracking\n",
    "- Registered Model\n",
    "  - Obtains version\n",
    "  - Stage eligible\n",
    "- Model Stage\n",
    "  - Stages: None, Staging, Production, Archived\n",
    "  - Transition between stages"
   ]
  },
  {
   "cell_type": "code",
   "execution_count": null,
   "id": "d8dff65e",
   "metadata": {},
   "outputs": [],
   "source": [
    "# Import from MLflow module\n",
    "from mlflow import MlflowClient\n",
    "\n",
    "# Create an instance\n",
    "client = MlflowClient()\n",
    "\n",
    "# Print the object\n",
    "client"
   ]
  },
  {
   "cell_type": "markdown",
   "id": "30ce7e10",
   "metadata": {},
   "source": [
    "Registering a model"
   ]
  },
  {
   "cell_type": "code",
   "execution_count": null,
   "id": "d6b272fd",
   "metadata": {},
   "outputs": [],
   "source": [
    "# Create a model called \"Unicorn\"\n",
    "client.create_registered_model(name=\"Unicorn\")"
   ]
  },
  {
   "cell_type": "markdown",
   "id": "7c81cbfa",
   "metadata": {},
   "source": [
    "Searching registered models\n",
    "\n",
    "- Identifiers\n",
    "  - name : of the model\n",
    "  - tags : tags associated with the model\n",
    "- Comparators\n",
    "  - = : equal to\n",
    "  - != : not equal\n",
    "  - LIKE : case-sensitive pattern match\n",
    "  - ILIKE : case-insensitive pattern match"
   ]
  },
  {
   "cell_type": "code",
   "execution_count": null,
   "id": "dd2ef825",
   "metadata": {},
   "outputs": [],
   "source": [
    "# Filter string\n",
    "unicorn_filter_string = \"name LIKE 'Unicorn%'\"\n",
    "\n",
    "# Search models\n",
    "client.search_registered_models(filter_string=unicorn_filter_string)"
   ]
  },
  {
   "cell_type": "markdown",
   "id": "cd7d8cc7",
   "metadata": {},
   "source": [
    "Register Existing Model"
   ]
  },
  {
   "cell_type": "code",
   "execution_count": null,
   "id": "ea68d9f7",
   "metadata": {},
   "outputs": [],
   "source": [
    "# Register model from local filesystem\n",
    "mlflow.register_model(\"./model\", \"Unicorn\")\n",
    "\n",
    "# Register model from tracking server\n",
    "mlflow.register_model(\"runs:/run-id/model\", \"Unicorn\")\n",
    "\n",
    "# During training run\n",
    "# mlflow.FLAVOR.log_model(\n",
    "#   name,\n",
    "#   artificat_uri,\n",
    "#   registered_model_name=\"MODEL_NAME\",\n",
    "# )"
   ]
  },
  {
   "cell_type": "markdown",
   "id": "bb18df8b",
   "metadata": {},
   "source": [
    "Transitioning Model Stages"
   ]
  },
  {
   "cell_type": "code",
   "execution_count": null,
   "id": "5a9555eb",
   "metadata": {},
   "outputs": [],
   "source": [
    "# Transition to staging\n",
    "client.transition_model_version_stage(\n",
    "    name=\"Unicorn\",\n",
    "    version=1,\n",
    "    stage=\"Staging\",\n",
    ")\n",
    "\n",
    "# Transition to production\n",
    "client.transition_model_version_stage(\n",
    "    name=\"Unicorn\",\n",
    "    version=1,\n",
    "    stage=\"Production\",\n",
    ")"
   ]
  },
  {
   "cell_type": "markdown",
   "id": "a24e276c",
   "metadata": {},
   "source": [
    "Serving Models"
   ]
  },
  {
   "cell_type": "code",
   "execution_count": null,
   "id": "60213cbc",
   "metadata": {},
   "outputs": [],
   "source": [
    "model = mlflow.sklearn.load_model(\"models:/Unicorn/Production\")"
   ]
  }
 ],
 "metadata": {
  "kernelspec": {
   "display_name": "genai",
   "language": "python",
   "name": "python3"
  },
  "language_info": {
   "name": "python",
   "version": "3.13.2"
  }
 },
 "nbformat": 4,
 "nbformat_minor": 5
}
