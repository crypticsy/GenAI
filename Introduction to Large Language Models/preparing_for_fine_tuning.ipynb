{
 "cells": [
  {
   "cell_type": "code",
   "execution_count": null,
   "metadata": {},
   "outputs": [],
   "source": [
    "from datasets import load_dataset\n",
    "from transformers import AutoTokenizer, AutoModelForSequenceClassification"
   ]
  },
  {
   "cell_type": "code",
   "execution_count": null,
   "metadata": {},
   "outputs": [],
   "source": [
    "train_data = load_dataset(\"imdb\", split=\"train\")\n",
    "train_data = train_data.shard(num_shards=4, index=0)\n",
    "\n",
    "test_data = load_dataset(\"imdb\", split=\"test\")\n",
    "test_data = test_data.shard(num_shards=4, index=0)"
   ]
  },
  {
   "cell_type": "markdown",
   "metadata": {},
   "source": [
    "<br/><br/><br/>\n",
    "\n",
    "### Tokenizing Data"
   ]
  },
  {
   "cell_type": "code",
   "execution_count": null,
   "metadata": {},
   "outputs": [],
   "source": [
    "model = AutoModelForSequenceClassification.from_pretrained(\"bert-base-uncased\")\n",
    "tokenizer = AutoTokenizer.from_pretrained(\"bert-base-uncased\")\n",
    "\n",
    "# Tokenize the dataset\n",
    "tokenized_training_data = tokenizer(\n",
    "    train_data[\"text\"],\n",
    "    return_tensors=\"pt\",\n",
    "    padding=True,\n",
    "    truncation=True,\n",
    "    max_length=64,\n",
    ")\n",
    "\n",
    "tokenized_test_data = tokenizer(\n",
    "    test_data[\"text\"],\n",
    "    return_tensors=\"pt\",\n",
    "    padding=True,\n",
    "    truncation=True,\n",
    "    max_length=64,\n",
    ")"
   ]
  },
  {
   "cell_type": "code",
   "execution_count": null,
   "metadata": {},
   "outputs": [],
   "source": [
    "def tokenize_function(text_data):\n",
    "  return tokenizer(\n",
    "      text_data[\"text\"],\n",
    "      return_tensors=\"pt\",\n",
    "      padding=True,\n",
    "      truncation=True,\n",
    "      max_length=64,\n",
    "  )\n",
    "  \n",
    "# Tokenize in batches\n",
    "tokenized_in_batched = train_data.map(tokenize_function, batched=True)\n",
    "\n",
    "# Tokenize row by row\n",
    "tokenized_in_row = train_data.map(tokenize_function, batched=False)"
   ]
  },
  {
   "cell_type": "markdown",
   "metadata": {},
   "source": [
    "<br/><br/><br/>\n",
    "\n",
    "### Fine-tuning through training"
   ]
  },
  {
   "cell_type": "code",
   "execution_count": null,
   "metadata": {},
   "outputs": [],
   "source": [
    "from transformers import Trainer, TrainingArguments\n",
    "\n",
    "trainig_args = TrainingArguments(\n",
    "    output_dir=\"./finetuned\",\n",
    "    # evaluation_strategy=\"epoch\",\n",
    "    num_train_epochs=3,\n",
    "    learning_rate=2e-5,\n",
    "    per_device_train_batch_size=8,\n",
    "    per_device_eval_batch_size=8,\n",
    "    weight_decay=0.01,\n",
    ")"
   ]
  },
  {
   "cell_type": "code",
   "execution_count": null,
   "metadata": {},
   "outputs": [],
   "source": [
    "trainer = Trainer(\n",
    "  model=model,\n",
    "  args=trainig_args,\n",
    "  train_dataset=tokenized_training_data,\n",
    "  eval_dataset=tokenized_test_data,\n",
    "  tokenizer=tokenizer,\n",
    ")\n",
    "\n",
    "trainer.train()"
   ]
  },
  {
   "cell_type": "code",
   "execution_count": null,
   "metadata": {},
   "outputs": [],
   "source": [
    "import torch\n",
    "\n",
    "new_data = [\"This movie was disappointing\", \"This is the best movie ever!\"]\n",
    "\n",
    "new_input = tokenizer(\n",
    "    new_data,\n",
    "    return_tensors=\"pt\",\n",
    "    padding=True,\n",
    "    truncation=True,\n",
    "    max_length=64,\n",
    ")\n",
    "\n",
    "with torch.no_grad():\n",
    "    outputs = model(**new_input)\n",
    "\n",
    "predicted_labels = torch.argmax(outputs.logits, dim=1).to_list()\n",
    "\n",
    "label_map = {\n",
    "    0: \"negative\",\n",
    "    1: \"positive\",\n",
    "}\n",
    "\n",
    "for i, text in enumerate(new_data):\n",
    "    sentiment = label_map[predicted_labels]\n",
    "    print(f\"\\nInput Text {i+1}: {new_data[i]}\")\n",
    "    print(f\"\\nPredicted Label: {sentiment}\")"
   ]
  },
  {
   "cell_type": "code",
   "execution_count": null,
   "metadata": {},
   "outputs": [],
   "source": [
    "model.save_pretrained(\"my_finetuned_files\")\n",
    "tokenizer.save_pretrained(\"my_finetuned_files\")"
   ]
  },
  {
   "cell_type": "code",
   "execution_count": null,
   "metadata": {},
   "outputs": [],
   "source": [
    "# Loading a saved model\n",
    "model = AutoModelForSequenceClassification.from_pretrained(\"my_finetuned_files\")\n",
    "tokenizer = AutoTokenizer.from_pretrained(\"my_finetuned_files\")"
   ]
  }
 ],
 "metadata": {
  "kernelspec": {
   "display_name": "genai",
   "language": "python",
   "name": "python3"
  },
  "language_info": {
   "codemirror_mode": {
    "name": "ipython",
    "version": 3
   },
   "file_extension": ".py",
   "mimetype": "text/x-python",
   "name": "python",
   "nbconvert_exporter": "python",
   "pygments_lexer": "ipython3",
   "version": "3.13.2"
  }
 },
 "nbformat": 4,
 "nbformat_minor": 2
}
