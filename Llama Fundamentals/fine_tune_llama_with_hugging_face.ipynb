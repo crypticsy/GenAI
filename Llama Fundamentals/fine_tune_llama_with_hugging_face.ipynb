{
 "cells": [
  {
   "cell_type": "markdown",
   "metadata": {},
   "source": [
    "### Load Models and tokenizers with Auto Classes"
   ]
  },
  {
   "cell_type": "code",
   "execution_count": null,
   "metadata": {},
   "outputs": [],
   "source": [
    "from transformers import AutoModelForCausalLM, AutoTokenizer\n",
    "\n",
    "model_name = \"Maykeye/TinyLlama-v0\"\n",
    "\n",
    "model = AutoModelForCausalLM.from_pretrained(model_name)\n",
    "tokenizer = AutoTokenizer.from_pretrained(model_name)\n",
    "tokenizer.pad_token = tokenizer.eos_token"
   ]
  },
  {
   "cell_type": "markdown",
   "metadata": {},
   "source": [
    "Training parameters"
   ]
  },
  {
   "cell_type": "code",
   "execution_count": null,
   "metadata": {},
   "outputs": [],
   "source": [
    "from transformers import TrainingArguments \n",
    "\n",
    "training_args = TrainingArguments(\n",
    "    learning_rate=2e-3, \n",
    "    warmup_ratio=0.03,\n",
    "  \tnum_train_epochs=3,\n",
    "  \toutput_dir='/tmp',\n",
    "    per_device_train_batch_size=1,\n",
    "    gradient_accumulation_steps=1,\n",
    "    save_steps=10,\n",
    "    logging_steps=2,\n",
    "    lr_scheduler_type='constant',\n",
    "    report_to='none'\n",
    ")\n",
    "  "
   ]
  },
  {
   "cell_type": "code",
   "execution_count": null,
   "metadata": {},
   "outputs": [],
   "source": [
    "from trl import SFTTrainer\n",
    "\n",
    "# Instantiate fine-tuning class\n",
    "trainer = SFTTrainer(\n",
    "  model=model,\n",
    "  tokenizer=tokenizer,\n",
    "  train_dataset=dataset,\n",
    "  dataset_text_filed='conversation',\n",
    "  max_seq_length=250,\n",
    "  args=training_args\n",
    ")"
   ]
  },
  {
   "cell_type": "code",
   "execution_count": null,
   "metadata": {},
   "outputs": [],
   "source": [
    "# Start training \n",
    "trainer.train()"
   ]
  },
  {
   "cell_type": "markdown",
   "metadata": {},
   "source": [
    "Evaluate a trainted model"
   ]
  },
  {
   "cell_type": "code",
   "execution_count": null,
   "metadata": {},
   "outputs": [],
   "source": [
    "import evaluate\n",
    "\n",
    "rogue = evaluate.load('rouge')\n",
    "predictions = [\"hello there\", \"neneral kenobi\"]\n",
    "references = [\"hello there\", \"master yoda\"]\n",
    "results = rogue.compute(predictions=predictions, references=references)\n",
    "print(results)"
   ]
  },
  {
   "cell_type": "code",
   "execution_count": null,
   "metadata": {},
   "outputs": [],
   "source": [
    "def generate_predictions_and_reference(dataset):\n",
    "  predictions=[]\n",
    "  references=[]\n",
    "  for row in dataset:\n",
    "    inputs = tokenizer.encode(row[\"instruction\"], return_tensors=\"pt\")\n",
    "    outputs = model.generate(inputs)\n",
    "    decoded_output = tokenizer.decode(outputs[0, inputs.shape[1]:], skip_special_tokens=True)\n",
    "    references += [row[\"response\"]]\n",
    "    predictions += [decoded_output]\n",
    "    \n",
    "  return predictions, references"
   ]
  },
  {
   "cell_type": "code",
   "execution_count": null,
   "metadata": {},
   "outputs": [],
   "source": [
    "references, predictions = generate_predictions_and_reference(evauluation_dataset)\n"
   ]
  },
  {
   "cell_type": "code",
   "execution_count": null,
   "metadata": {},
   "outputs": [],
   "source": [
    "rouge = evaluate.load('rouge')\n",
    "results = rouge.compute(predictions=predictions, references=references)"
   ]
  }
 ],
 "metadata": {
  "kernelspec": {
   "display_name": "genai",
   "language": "python",
   "name": "python3"
  },
  "language_info": {
   "codemirror_mode": {
    "name": "ipython",
    "version": 3
   },
   "file_extension": ".py",
   "mimetype": "text/x-python",
   "name": "python",
   "nbconvert_exporter": "python",
   "pygments_lexer": "ipython3",
   "version": "3.13.2"
  }
 },
 "nbformat": 4,
 "nbformat_minor": 2
}
