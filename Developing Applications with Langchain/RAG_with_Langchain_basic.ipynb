{
 "cells": [
  {
   "cell_type": "markdown",
   "id": "c291701f",
   "metadata": {},
   "source": [
    "Retrieval Agumented Generation (RAG)\n",
    "- Allowing pretrained models to access external knowledge bases\n",
    "- Uses user queries to retrieve relevant documents\n",
    "- Use embeddings to retrieve relevant information to integrate into the prompt"
   ]
  },
  {
   "cell_type": "markdown",
   "id": "3127f471",
   "metadata": {},
   "source": [
    "RAG development steps\n",
    "- Document Loader -> Splitting -> Storage + Retrieval"
   ]
  },
  {
   "cell_type": "markdown",
   "id": "b82e2622",
   "metadata": {},
   "source": [
    "<image src=\"./images/rag_workflow.png\" alt=\"RAG Workflow\" width=\"600\">"
   ]
  },
  {
   "cell_type": "markdown",
   "id": "9b989aa0",
   "metadata": {},
   "source": [
    "----"
   ]
  },
  {
   "cell_type": "markdown",
   "id": "6e6aff72",
   "metadata": {},
   "source": [
    "Document Loaders\n",
    "- Classes designed to load and configure documents from system integration\n",
    "- Document loaders for commmon file types: .pdf, .csv\n",
    "- 3rd party loaders: S3, .ipynb, .wav"
   ]
  },
  {
   "cell_type": "code",
   "execution_count": null,
   "id": "6ba70b7e",
   "metadata": {},
   "outputs": [],
   "source": [
    "! pip install pypdf\n",
    "! pip install unstructured"
   ]
  },
  {
   "cell_type": "code",
   "execution_count": null,
   "id": "d5462dbc",
   "metadata": {},
   "outputs": [],
   "source": [
    "# PDF \n",
    "from langchain_core.document_loaders import PyPDFLoader\n",
    "loader = PyPDFLoader(\"path/to/file/attention_is_all_you_need.pdf\")\n",
    "\n",
    "data = loader.load()\n",
    "print(data[0])\n",
    "\n",
    "\n",
    "\n",
    "# CSV document loader\n",
    "from langchain_core.document_loaders import CSVLoader\n",
    "loader = CSVLoader(\"fifa_countries_audience.csv\")\n",
    "\n",
    "data = loader.load()\n",
    "print(data[0])\n",
    "\n",
    "\n",
    "\n",
    "# HTML document loader\n",
    "from langchain_core.document_loaders import UnstructuredHTMLLoader\n",
    " \n",
    "loader = UnstructuredHTMLLoader(\"white_house_executive_order_nov_2023.html\")\n",
    "data = loader.load()\n",
    "\n",
    "data = loader.load()\n",
    "print(data[0].metadata)"
   ]
  },
  {
   "cell_type": "markdown",
   "id": "0b616bc0",
   "metadata": {},
   "source": [
    "Dcoument Splitting\n",
    "- Splitting documents into smaller chunks to fit model input limits\n",
    "- Break document up to fit within an LLM's context window\n",
    "- Chunk overlap is used to ensure context is not lost when splitting as while splitting the document, some context may be lost"
   ]
  },
  {
   "cell_type": "code",
   "execution_count": 10,
   "id": "fc5d0ef2",
   "metadata": {},
   "outputs": [
    {
     "name": "stderr",
     "output_type": "stream",
     "text": [
      "Created a chunk of size 52, which is longer than the specified 24\n"
     ]
    },
    {
     "name": "stdout",
     "output_type": "stream",
     "text": [
      "['One machine can do the work of fifty ordinary humans', 'No machine can do the work of one extraordinary human']\n",
      "[52, 53]\n"
     ]
    }
   ],
   "source": [
    "from langchain_text_splitters import CharacterTextSplitter\n",
    "\n",
    "quote = \"\"\"One machine can do the work of fifty ordinary humans.\\nNo machine can do the work of one extraordinary human.\"\"\"\n",
    "\n",
    "chunk_size=24\n",
    "chunk_overlap=3\n",
    "\n",
    "ct_splitter = CharacterTextSplitter(\n",
    "  separator=\".\",\n",
    "  chunk_size=chunk_size,\n",
    "  chunk_overlap=chunk_overlap\n",
    ")\n",
    "\n",
    "docs =  ct_splitter.split_text(quote)\n",
    "print(docs)\n",
    "print([len(doc) for doc in docs])"
   ]
  },
  {
   "cell_type": "code",
   "execution_count": null,
   "id": "bcf9b481",
   "metadata": {},
   "outputs": [
    {
     "name": "stdout",
     "output_type": "stream",
     "text": [
      "['One machine can do the', 'work of fifty ordinary', 'humans.', 'No machine can do the', 'work of one', 'extraordinary human.']\n"
     ]
    }
   ],
   "source": [
    "from langchain_text_splitters import RecursiveCharacterTextSplitter\n",
    "\n",
    "# It works better with a larger document, but this is just an example.\n",
    "rc_splitter = RecursiveCharacterTextSplitter(\n",
    "  separators=[\"\\n\\n\", \"\\n\", \" \", \"\"],\n",
    "  chunk_size=chunk_size,\n",
    "  chunk_overlap=chunk_overlap\n",
    ")\n",
    "\n",
    "docs = rc_splitter.split_text(quote)\n",
    "print(docs)"
   ]
  },
  {
   "cell_type": "markdown",
   "id": "9d382b87",
   "metadata": {},
   "source": [
    "Storage + Retrieval\n",
    "- Vector databases are used to store and retrieve document chunks\n",
    "  - Embedding text documents into vectors that capture the semantic meaning\n",
    "  - User query is embedded to find the most similar documents from the database and insert them into the prompt"
   ]
  },
  {
   "cell_type": "code",
   "execution_count": null,
   "id": "7056b3c3",
   "metadata": {},
   "outputs": [],
   "source": [
    "from langchain_core.documents import Document\n",
    "\n",
    "docs = [\n",
    "  Document(\n",
    "    page_content=\"In all marketing copy, TechStack should always be written with the T and S capitalized. Incorrect: techstack, Techstack, etc. \",\n",
    "    metadata={\"guideline\": \"brand-capitalization\"}\n",
    "  ),\n",
    "  Document(\n",
    "    page_content=\"Our users should be referred to as techies in both internal and external communications.\",\n",
    "    metadata={\"guideline\": \"referring-to-users\"}\n",
    "  )\n",
    "]"
   ]
  },
  {
   "cell_type": "markdown",
   "id": "cc26fa93",
   "metadata": {},
   "source": [
    "Setting up Chroma Vector Database"
   ]
  },
  {
   "cell_type": "code",
   "execution_count": null,
   "id": "30aa8870",
   "metadata": {},
   "outputs": [],
   "source": [
    "from langchain_openai import OpenAIEmbeddings\n",
    "from langchain_chroma import Chroma\n",
    "\n",
    "embedding_function = OpenAIEmbeddings(api_key=openai_api_key, model='text-embedding-3-small')\n",
    "\n",
    "vectorstore = Chroma.from_documents(\n",
    "    documents=docs,\n",
    "    embedding=embedding_function,\n",
    "    persist_directory=\"path/to/vectorstore_directory\"  # Specify your directory here\n",
    ")\n",
    "\n",
    "retreiver = vectorstore.as_retriever(\n",
    "    search_type=\"similarity\",\n",
    "    search_kwargs={\"k\": 2}  # Number of documents to retrieve\n",
    ")\n",
    "\n",
    "\n",
    "# --- Building a prompt template ---\n",
    "from langchain_core.prompts import ChatPromptTemplate\n",
    "\n",
    "message = \"\"\"\n",
    "Review and fix the following TechStack marketing copy with the following guidelines in consideration:\n",
    "\n",
    "Guidelines:\n",
    "{guidelines}\n",
    "\n",
    "Copy:\n",
    "{copy}\n",
    "\n",
    "Fixed Copy:\n",
    "\"\"\"\n",
    "\n",
    "prompt_template = ChatPromptTemplate.from_messages([\"human\", message])\n",
    "\n",
    "\n",
    "# --- Chaining it all together ---\n",
    "from langchain_core.runnables import RunnablePassthrough\n",
    "\n",
    "rag_chain = ({\n",
    "  \"guidelines\" : retreiver, \"copy\": RunnablePassthrough()\n",
    "  | prompt_template\n",
    "  | llm\n",
    "})\n",
    "\n",
    "response = rag_chain.invoke(\"Here at techstack, our users are the best in the world!\")\n",
    "print(response.content)"
   ]
  }
 ],
 "metadata": {
  "kernelspec": {
   "display_name": "genai",
   "language": "python",
   "name": "python3"
  },
  "language_info": {
   "codemirror_mode": {
    "name": "ipython",
    "version": 3
   },
   "file_extension": ".py",
   "mimetype": "text/x-python",
   "name": "python",
   "nbconvert_exporter": "python",
   "pygments_lexer": "ipython3",
   "version": "3.13.2"
  }
 },
 "nbformat": 4,
 "nbformat_minor": 5
}
