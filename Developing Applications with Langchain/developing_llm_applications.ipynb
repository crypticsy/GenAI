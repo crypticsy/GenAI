{
 "cells": [
  {
   "cell_type": "markdown",
   "id": "6599e791",
   "metadata": {},
   "source": [
    "Prompting OpenAI models"
   ]
  },
  {
   "cell_type": "code",
   "execution_count": null,
   "id": "610c814e",
   "metadata": {},
   "outputs": [],
   "source": [
    "! pip install langchain-huggingface"
   ]
  },
  {
   "cell_type": "code",
   "execution_count": null,
   "id": "a6eeb031",
   "metadata": {},
   "outputs": [],
   "source": [
    "from langchain_huggingface import HuggingFacePipeline\n",
    "\n",
    "llm = HuggingFacePipeline.from_model_id(\n",
    "  model_id=\"crumb/nano-mistral\",\n",
    "  task=\"text-generation\",\n",
    "  pipeline_kwargs={\"max_new_tokens\": 100},\n",
    ")\n",
    "\n",
    "prompt = \"What is LangChain?\"\n",
    "llm.invoke(prompt)"
   ]
  },
  {
   "cell_type": "markdown",
   "id": "fe5805ac",
   "metadata": {},
   "source": [
    "------"
   ]
  },
  {
   "cell_type": "markdown",
   "id": "13258ff1",
   "metadata": {},
   "source": [
    "Prompt Templates\n",
    "- Receipes for defining prompts for LLMS"
   ]
  },
  {
   "cell_type": "code",
   "execution_count": null,
   "id": "38b98d1e",
   "metadata": {},
   "outputs": [],
   "source": [
    "from langchain_core.prompts import PromptTemplate\n",
    "\n",
    "template = \"Explain this concept simply and concisely: {concept}\"\n",
    "prompt_template = PromptTemplate.from_template(template=template)\n",
    "\n",
    "prompt = prompt_template.invoke({\"concept\": \"Prompting LLMs\"})\n",
    "print(prompt)"
   ]
  },
  {
   "cell_type": "code",
   "execution_count": null,
   "id": "4b5b04da",
   "metadata": {},
   "outputs": [],
   "source": [
    "# | (Pipe) is used to chain components together\n",
    "llm_chain = prompt_template | llm\n",
    "\n",
    "concept = \"Prompting LLMs\"\n",
    "print(llm_chain.invoke({\"concept\": concept}))"
   ]
  },
  {
   "cell_type": "markdown",
   "id": "a7aca474",
   "metadata": {},
   "source": [
    "Chat roles\n",
    "- System: Defines the behavior of the assistant\n",
    "- Human: User input\n",
    "- AI: Model response"
   ]
  },
  {
   "cell_type": "code",
   "execution_count": null,
   "id": "7510c473",
   "metadata": {},
   "outputs": [],
   "source": [
    "# Creating chat models with roles\n",
    "from langchain_core.prompts import ChatPromptTemplate\n",
    "\n",
    "template = ChatPromptTemplate.from_messages(\n",
    "  [\n",
    "    (\"system\", \"You are a calculator that responds with math.\"),\n",
    "    (\"user\", \"Answer this math question What is two plus two?\"),\n",
    "    (\"ai\", \"2+2 = 4\"),\n",
    "    (\"human\", \"Answer this math question: {math}\"),\n",
    "  ]\n",
    ")\n",
    "\n",
    "llm_chain = template | llm\n",
    "math = \"What is five times five?\"\n",
    "response = llm_chain.invoke({\"math\": math})\n",
    "print(response)"
   ]
  },
  {
   "cell_type": "markdown",
   "id": "7b3255da",
   "metadata": {},
   "source": [
    "-----"
   ]
  },
  {
   "cell_type": "markdown",
   "id": "8cebfb21",
   "metadata": {},
   "source": [
    "Few-shot prompting"
   ]
  },
  {
   "cell_type": "code",
   "execution_count": null,
   "id": "11cd0cc2",
   "metadata": {},
   "outputs": [],
   "source": [
    "from langchain_core.prompts import FewShotPromptTemplate, PromptTemplate\n",
    "\n",
    "example_prompt = PromptTemplate.from_template(\"Question: {question}\\nAnswer: {answer}\")\n",
    "prompt = example_prompt.invoke(\n",
    "    {\n",
    "        \"question\": \"What is the capital of Italy?\",\n",
    "        \"answer\": \"Rome\",\n",
    "    }\n",
    ")\n",
    "\n",
    "print(prompt.text)"
   ]
  },
  {
   "cell_type": "code",
   "execution_count": null,
   "id": "54d7a3bc",
   "metadata": {},
   "outputs": [],
   "source": [
    "examples = [{\n",
    "    \"question\": \"Does Henry Campbell have any pets?\",\n",
    "    \"answer\" : \"Henry Campbell has a dog called Pluto.\"\n",
    "}]\n",
    "\n",
    "prompt_template = FewShotPromptTemplate(\n",
    "  examples = examples, # List of Dictionaries with \"question\" and \"answer\" keys\n",
    "  example_prompt=example_prompt, # Formatted template\n",
    "  suffix=\"Question: {input}\", # Suffix to add to the input\n",
    "  input_variables=[\"input\"], # Input variables to use in the template\n",
    ")\n",
    "\n",
    "prompt = prompt_template.invoke({\"input\": \"What is the namne of Henry Campbell's dog?\"})\n",
    "print(prompt.text)"
   ]
  },
  {
   "cell_type": "code",
   "execution_count": null,
   "id": "ec898456",
   "metadata": {},
   "outputs": [],
   "source": [
    "llm_chain = prompt_template | llm\n",
    "response = llm_chain.invoke({\"input\": \"What is the name of Henry Campbell's dog?\"})\n",
    "print(response)"
   ]
  }
 ],
 "metadata": {
  "kernelspec": {
   "display_name": "genai",
   "language": "python",
   "name": "python3"
  },
  "language_info": {
   "codemirror_mode": {
    "name": "ipython",
    "version": 3
   },
   "file_extension": ".py",
   "mimetype": "text/x-python",
   "name": "python",
   "nbconvert_exporter": "python",
   "pygments_lexer": "ipython3",
   "version": "3.13.2"
  }
 },
 "nbformat": 4,
 "nbformat_minor": 5
}
