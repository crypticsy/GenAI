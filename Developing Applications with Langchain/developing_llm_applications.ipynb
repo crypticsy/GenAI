{
 "cells": [
  {
   "cell_type": "markdown",
   "id": "6599e791",
   "metadata": {},
   "source": [
    "Prompting OpenAI models"
   ]
  },
  {
   "cell_type": "code",
   "execution_count": null,
   "id": "610c814e",
   "metadata": {},
   "outputs": [],
   "source": [
    "! pip install langchain-huggingface"
   ]
  },
  {
   "cell_type": "code",
   "execution_count": null,
   "id": "a6eeb031",
   "metadata": {},
   "outputs": [],
   "source": [
    "from langchain_huggingface import HuggingFacePipeline\n",
    "\n",
    "llm = HuggingFacePipeline.from_model_id(\n",
    "  model_id=\"crumb/nano-mistral\",\n",
    "  task=\"text-generation\",\n",
    "  pipeline_kwargs={\"max_new_tokens\": 100},\n",
    ")\n",
    "\n",
    "prompt = \"What is LangChain?\"\n",
    "llm.invoke(prompt)"
   ]
  },
  {
   "cell_type": "markdown",
   "id": "fe5805ac",
   "metadata": {},
   "source": [
    "------"
   ]
  },
  {
   "cell_type": "markdown",
   "id": "13258ff1",
   "metadata": {},
   "source": [
    "Prompt Templates\n",
    "- Receipes for defining prompts for LLMS"
   ]
  },
  {
   "cell_type": "code",
   "execution_count": null,
   "id": "38b98d1e",
   "metadata": {},
   "outputs": [],
   "source": [
    "from langchain_core.prompts import PromptTemplate\n",
    "\n",
    "template = \"Explain this concept simply and concisely: {concept}\"\n",
    "prompt_template = PromptTemplate.from_template(template=template)\n",
    "\n",
    "prompt = prompt_template.invoke({\"concept\": \"Prompting LLMs\"})\n",
    "print(prompt)"
   ]
  },
  {
   "cell_type": "code",
   "execution_count": null,
   "id": "4b5b04da",
   "metadata": {},
   "outputs": [],
   "source": [
    "# | (Pipe) is used to chain components together\n",
    "llm_chain = prompt_template | llm\n",
    "\n",
    "concept = \"Prompting LLMs\"\n",
    "print(llm_chain.invoke({\"concept\": concept}))"
   ]
  },
  {
   "cell_type": "markdown",
   "id": "a7aca474",
   "metadata": {},
   "source": [
    "Chat roles\n",
    "- System: Defines the behavior of the assistant\n",
    "- Human: User input\n",
    "- AI: Model response"
   ]
  },
  {
   "cell_type": "code",
   "execution_count": null,
   "id": "7510c473",
   "metadata": {},
   "outputs": [],
   "source": [
    "# Creating chat models with roles\n",
    "from langchain_core.prompts import ChatPromptTemplate\n",
    "\n",
    "template = ChatPromptTemplate.from_messages(\n",
    "  [\n",
    "    (\"system\", \"You are a calculator that responds with math.\"),\n",
    "    (\"user\", \"Answer this math question What is two plus two?\"),\n",
    "    (\"ai\", \"2+2 = 4\"),\n",
    "    (\"human\", \"Answer this math question: {math}\"),\n",
    "  ]\n",
    ")\n",
    "\n",
    "llm_chain = template | llm\n",
    "math = \"What is five times five?\"\n",
    "response = llm_chain.invoke({\"math\": math})\n",
    "print(response)"
   ]
  },
  {
   "cell_type": "markdown",
   "id": "7b3255da",
   "metadata": {},
   "source": [
    "-----"
   ]
  },
  {
   "cell_type": "markdown",
   "id": "8cebfb21",
   "metadata": {},
   "source": [
    "Few-shot prompting"
   ]
  },
  {
   "cell_type": "code",
   "execution_count": null,
   "id": "11cd0cc2",
   "metadata": {},
   "outputs": [],
   "source": [
    "from langchain_core.prompts import FewShotPromptTemplate, PromptTemplate\n",
    "\n",
    "example_prompt = PromptTemplate.from_template(\"Question: {question}\\nAnswer: {answer}\")\n",
    "prompt = example_prompt.invoke(\n",
    "    {\n",
    "        \"question\": \"What is the capital of Italy?\",\n",
    "        \"answer\": \"Rome\",\n",
    "    }\n",
    ")\n",
    "\n",
    "print(prompt.text)"
   ]
  },
  {
   "cell_type": "code",
   "execution_count": null,
   "id": "54d7a3bc",
   "metadata": {},
   "outputs": [],
   "source": [
    "examples = [{\n",
    "    \"question\": \"Does Henry Campbell have any pets?\",\n",
    "    \"answer\" : \"Henry Campbell has a dog called Pluto.\"\n",
    "}]\n",
    "\n",
    "prompt_template = FewShotPromptTemplate(\n",
    "  examples = examples, # List of Dictionaries with \"question\" and \"answer\" keys\n",
    "  example_prompt=example_prompt, # Formatted template\n",
    "  suffix=\"Question: {input}\", # Suffix to add to the input\n",
    "  input_variables=[\"input\"], # Input variables to use in the template\n",
    ")\n",
    "\n",
    "prompt = prompt_template.invoke({\"input\": \"What is the namne of Henry Campbell's dog?\"})\n",
    "print(prompt.text)"
   ]
  },
  {
   "cell_type": "code",
   "execution_count": null,
   "id": "ec898456",
   "metadata": {},
   "outputs": [],
   "source": [
    "llm_chain = prompt_template | llm\n",
    "response = llm_chain.invoke({\"input\": \"What is the name of Henry Campbell's dog?\"})\n",
    "print(response)"
   ]
  },
  {
   "cell_type": "markdown",
   "id": "bda4e202",
   "metadata": {},
   "source": [
    "------"
   ]
  },
  {
   "cell_type": "markdown",
   "id": "f1c33dd6",
   "metadata": {},
   "source": [
    "Sequential Chains"
   ]
  },
  {
   "cell_type": "code",
   "execution_count": null,
   "id": "8eeccd9b",
   "metadata": {},
   "outputs": [],
   "source": [
    "from langchain_core.output_parsers import StrOutputParser\n",
    "\n",
    "destination_prompt = PromptTemplate(\n",
    "  input_variables=[\"destination\"],\n",
    "  template=\"I am planning a trip to {destination}. Can you suggest some activities to do there?\"\n",
    ")\n",
    "\n",
    "activities_prompt = PromptTemplate(\n",
    "  input_variables=[\"activities\"],\n",
    "  template=\"I have only one day, so can you create itinerary from your top three activities: {activities}\"\n",
    ")\n",
    "\n",
    "\n",
    "seq_chain = ({\"activities\" : destination_prompt | llm | StrOutputParser() }) | activities_prompt | llm | StrOutputParser()"
   ]
  },
  {
   "cell_type": "markdown",
   "id": "3b060014",
   "metadata": {},
   "source": [
    "-------"
   ]
  },
  {
   "cell_type": "markdown",
   "id": "71712a57",
   "metadata": {},
   "source": [
    "Agents\n",
    "- Agents : Use LLMs to take actions\n",
    "- Tools: Functions called by agents"
   ]
  },
  {
   "cell_type": "code",
   "execution_count": null,
   "id": "3854a175",
   "metadata": {},
   "outputs": [],
   "source": [
    "! pip install langgraph==0.2.74"
   ]
  },
  {
   "cell_type": "code",
   "execution_count": null,
   "id": "8b97ec4f",
   "metadata": {},
   "outputs": [],
   "source": [
    "# ReAct Agent : Reason + Act\n",
    "\n",
    "from langgraph.prebuilt import create_react_agent\n",
    "from langchain_community.agent_toolkits.load_tools import load_tools\n",
    "\n",
    "tools = load_tools(['llm-math'], llm=llm)\n",
    "agent = create_react_agent(llm, tools)\n",
    "\n",
    "messages = agent.invoke({\"messages\":[(\"human\", \"What is the square root of 101?\")]})\n",
    "print(messages['messages'][-1].content)"
   ]
  },
  {
   "cell_type": "code",
   "execution_count": null,
   "id": "2dc6d467",
   "metadata": {},
   "outputs": [],
   "source": [
    "print(tools[0].name)\n",
    "print(tools[0].description)\n",
    "print(tools[0].return_direct) # whether the agent should stop after the tool call or continue reasoning\n",
    "print(tools[0].args) # the arguments that the tool expects"
   ]
  },
  {
   "cell_type": "markdown",
   "id": "04beb710",
   "metadata": {},
   "source": [
    "----"
   ]
  },
  {
   "cell_type": "markdown",
   "id": "ac949997",
   "metadata": {},
   "source": [
    "Define a custom function"
   ]
  },
  {
   "cell_type": "code",
   "execution_count": null,
   "id": "743d66d2",
   "metadata": {},
   "outputs": [],
   "source": [
    "from langchain_core.tools import tool\n",
    "\n",
    "@tool\n",
    "def financial_report(company_name: str, revenue: int, expense: int) -> str:\n",
    "  \"\"\" Generate a financial report for a company that calculates net income.\"\"\"\n",
    "  net_income = revenue - expense\n",
    "  \n",
    "  report = f\"Financial Report for {company_name}:\\n\"\n",
    "  report += f\"Revenue: ${revenue}\\n\"\n",
    "  report += f\"Expenses: ${expense}\\n\"\n",
    "  report += f\"Net Income: ${net_income}\\n\"\n",
    "  return report\n",
    "\n",
    "print(financial_report(\"LemondateStand\", 100, 50))"
   ]
  }
 ],
 "metadata": {
  "kernelspec": {
   "display_name": "genai",
   "language": "python",
   "name": "python3"
  },
  "language_info": {
   "codemirror_mode": {
    "name": "ipython",
    "version": 3
   },
   "file_extension": ".py",
   "mimetype": "text/x-python",
   "name": "python",
   "nbconvert_exporter": "python",
   "pygments_lexer": "ipython3",
   "version": "3.13.2"
  }
 },
 "nbformat": 4,
 "nbformat_minor": 5
}
