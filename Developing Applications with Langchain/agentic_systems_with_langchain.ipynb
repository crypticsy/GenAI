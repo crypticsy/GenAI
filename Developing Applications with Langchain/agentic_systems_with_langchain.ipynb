{
 "cells": [
  {
   "cell_type": "markdown",
   "id": "029fb8e7",
   "metadata": {},
   "source": [
    "Agents in Langchain\n",
    "- Agents : Autonomous systems that can make decision and take actions\n",
    "- Tools : Functions agents use to perform specific tasks\n",
    "   - Data Query\n",
    "   - Research reports\n",
    "   - Data analysis"
   ]
  },
  {
   "cell_type": "code",
   "execution_count": null,
   "id": "a2e6dae3",
   "metadata": {},
   "outputs": [],
   "source": [
    "# Create a ReAct agent\n",
    "\n",
    "# Module Imports\n",
    "from langchain_openai import ChatOpenAI\n",
    "from langchain_core.tools import tool\n",
    "from langgraph.prebuilt import create_react_agent\n",
    "import math\n",
    "\n",
    "# LLM setup\n",
    "model = ChatOpenAI(model=\"gpt-4o-mini\", temperature=0.0, openai_api_key=\"<OPENAI_API_TOKEN>\")"
   ]
  },
  {
   "cell_type": "markdown",
   "id": "47c7b090",
   "metadata": {},
   "source": [
    "Creating a math tool"
   ]
  },
  {
   "cell_type": "code",
   "execution_count": null,
   "id": "182e5f9e",
   "metadata": {},
   "outputs": [],
   "source": [
    "@tool\n",
    "def rectangle_area(input: str) -> str:\n",
    "    \"\"\"Calculate the area of a rectangle given its length and width.\"\"\"\n",
    "    length, width = map(float, input.split(\",\"))\n",
    "    return str(length * width)\n",
    "\n",
    "# create a query\n",
    "query = \"What is the area of a rectangle with length 5 and width 10?\"\n",
    "\n",
    "# Create the agent\n",
    "app = create_react_agent(model, tools=[rectangle_area])\n",
    "\n",
    "# Invoke the agent and print the response\n",
    "response = app.invoke({\"messages\":[(\"human\", query)]})\n",
    "\n",
    "# Print the agent's response\n",
    "print(response[\"messages\"][-1].content)"
   ]
  }
 ],
 "metadata": {
  "kernelspec": {
   "display_name": "genai",
   "language": "python",
   "name": "python3"
  },
  "language_info": {
   "codemirror_mode": {
    "name": "ipython",
    "version": 3
   },
   "file_extension": ".py",
   "mimetype": "text/x-python",
   "name": "python",
   "nbconvert_exporter": "python",
   "pygments_lexer": "ipython3",
   "version": "3.13.2"
  }
 },
 "nbformat": 4,
 "nbformat_minor": 5
}
